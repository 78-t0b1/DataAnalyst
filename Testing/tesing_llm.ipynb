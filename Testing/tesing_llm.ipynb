{
 "cells": [
  {
   "cell_type": "markdown",
   "metadata": {},
   "source": [
    "## Try with chains"
   ]
  },
  {
   "cell_type": "code",
   "execution_count": null,
   "metadata": {},
   "outputs": [],
   "source": []
  },
  {
   "cell_type": "code",
   "execution_count": 4,
   "metadata": {},
   "outputs": [
    {
     "name": "stdout",
     "output_type": "stream",
     "text": [
      "sqlite\n",
      "['Question_0', 'Question_1', 'Question_10', 'Question_11', 'Question_12', 'Question_13', 'Question_14', 'Question_15', 'Question_16', 'Question_17', 'Question_18', 'Question_19', 'Question_2', 'Question_20', 'Question_3', 'Question_4', 'Question_5', 'Question_6', 'Question_7', 'Question_8', 'Question_9', 'Questions']\n"
     ]
    }
   ],
   "source": [
    "from langchain_community.utilities import SQLDatabase\n",
    "\n",
    "db = SQLDatabase.from_uri(\"sqlite:///../Data/DB/Sustain.db\")\n",
    "print(db.dialect)\n",
    "print(db.get_usable_table_names())\n",
    "# db.run(\"select Female_ from Options where Demographics_='Always_' and Question_Number=3;\")"
   ]
  },
  {
   "cell_type": "code",
   "execution_count": 5,
   "metadata": {},
   "outputs": [
    {
     "name": "stdout",
     "output_type": "stream",
     "text": [
      "```sql\n",
      "SELECT \"Male\"\n",
      "FROM \"Question_3\"\n",
      "WHERE \"Options\" = 'Male'\n",
      "LIMIT 5;\n",
      "```\n"
     ]
    }
   ],
   "source": [
    "from langchain_community.agent_toolkits import SQLDatabaseToolkit\n",
    "from langchain_openai import ChatOpenAI\n",
    "from langchain.chains import create_sql_query_chain\n",
    "from dotenv import load_dotenv\n",
    "load_dotenv()\n",
    "llm =  ChatOpenAI(model=\"gpt-4o\", temperature=0)\n",
    "\n",
    "\n",
    "\n",
    "chain = create_sql_query_chain(llm, db)\n",
    "op_cols = db.run(\"\"\"\n",
    "    SELECT Options from \"Question_1\";\n",
    "\"\"\")\n",
    "ques = db.run(\n",
    "    \"\"\"\n",
    "    SELECT * from Questions;\n",
    "\"\"\"\n",
    ")\n",
    "res = chain.invoke({\"question\": f\" Option column has values : {op_cols} And Questions table contain {ques} from survey which are linked with all other tables. Keeping that in mind How much male buy sustainable and enviromentaly friendly products? only return query\"})\n",
    "print(res)"
   ]
  },
  {
   "cell_type": "code",
   "execution_count": 6,
   "metadata": {},
   "outputs": [
    {
     "data": {
      "text/plain": [
       "\"[('Male',)]\""
      ]
     },
     "execution_count": 6,
     "metadata": {},
     "output_type": "execute_result"
    }
   ],
   "source": [
    "db.run(\"\"\"\n",
    "      SELECT \"Male\" \n",
    "FROM \"Question_4\" \n",
    "WHERE \"Options\" = 'Male'\n",
    "LIMIT 5;\n",
    "       \"\"\")"
   ]
  },
  {
   "cell_type": "code",
   "execution_count": null,
   "metadata": {},
   "outputs": [],
   "source": []
  },
  {
   "cell_type": "code",
   "execution_count": 7,
   "metadata": {},
   "outputs": [
    {
     "name": "stdout",
     "output_type": "stream",
     "text": [
      "Error: (sqlite3.OperationalError) near \"```sql\n",
      "SELECT \"Male\"\n",
      "FROM \"Question_3\"\n",
      "WHERE \"Options\" = 'Male'\n",
      "LIMIT 5;\n",
      "```\": syntax error\n",
      "[SQL: ```sql\n",
      "SELECT \"Male\"\n",
      "FROM \"Question_3\"\n",
      "WHERE \"Options\" = 'Male'\n",
      "LIMIT 5;\n",
      "```]\n",
      "(Background on this error at: https://sqlalche.me/e/20/e3q8)\n"
     ]
    }
   ],
   "source": [
    "from langchain_community.tools.sql_database.tool import QuerySQLDataBaseTool\n",
    "\n",
    "write_query = create_sql_query_chain(llm, db)\n",
    "execute_query = QuerySQLDataBaseTool(db=db)\n",
    "\n",
    "chain = write_query | execute_query\n",
    "\n",
    "# chain.invoke({\"question\": \"Option column has values : {op_cols} And Questions table contain :{ques}. Keeping that in mind What is the most important issue in London ?\"})\n",
    "# response\n",
    "res = chain.invoke({\"question\": f\" Option column has values : {op_cols} And Questions table contain {ques} from survey which are linked with all other tables. Keeping that in mind How much male buy sustainable and enviromentaly friendly products? only return query\"})\n",
    "print(res)"
   ]
  },
  {
   "cell_type": "code",
   "execution_count": 8,
   "metadata": {},
   "outputs": [
    {
     "name": "stdout",
     "output_type": "stream",
     "text": [
      "The SQL query provided contains a syntax error due to the incorrect placement of \"SQLQuery:\" before the actual SQL code. To correct this, the query should be written without the \"SQLQuery:\" prefix. Here is the corrected query:\n",
      "\n",
      "```sql\n",
      "SELECT \"Question_Number\", \"Question\"\n",
      "FROM \"Questions\"\n",
      "WHERE \"Question_Number\" IN (0, 1, 2, 3, 4, 5, 6, 7, 8, 9, 10, 11, 12, 13, 14, 15, 16, 17, 18, 19, 20)\n",
      "LIMIT 5;\n",
      "```\n",
      "\n",
      "This query will return the first five questions from the \"Questions\" table where the \"Question_Number\" is within the specified range.\n"
     ]
    }
   ],
   "source": [
    "from operator import itemgetter\n",
    "from langchain_core.output_parsers import StrOutputParser\n",
    "from langchain_core.prompts import PromptTemplate\n",
    "from langchain_core.runnables import RunnablePassthrough\n",
    "\n",
    "answer_prompt = PromptTemplate.from_template(\n",
    "    \"\"\"Given the following user question, corresponding SQL query, and SQL result, answer the user question.\n",
    "\n",
    "Question: {question}\n",
    "SQL Query: {query}\n",
    "SQL Result: {result}\n",
    "Answer: \"\"\"\n",
    ")\n",
    "\n",
    "answer = answer_prompt | llm | StrOutputParser()\n",
    "chain = (\n",
    "    RunnablePassthrough.assign(query=write_query).assign(\n",
    "        result=itemgetter(\"query\") | execute_query\n",
    "    )\n",
    "    | answer\n",
    ")\n",
    "\n",
    "res = chain.invoke({\"question\": f\" Option column has values : {op_cols} And Questions table contain {ques} from survey which are linked with all other tables. Keeping that in mind  only return query\"})\n",
    "print(res)"
   ]
  },
  {
   "cell_type": "code",
   "execution_count": 91,
   "metadata": {},
   "outputs": [
    {
     "ename": "OperationalError",
     "evalue": "(sqlite3.OperationalError) no such table: Responses\n[SQL: \n    SELECT COUNT(*)\nFROM \"Question_4\" AS q4\nJOIN \"Responses\" AS r ON q4.response_id = r.id\nJOIN \"Demographics\" AS d ON r.demographic_id = d.id\nWHERE d.gender = 'Male' AND q4.answer IN ('Always', 'Often', 'Sometimes');\n]\n(Background on this error at: https://sqlalche.me/e/20/e3q8)",
     "output_type": "error",
     "traceback": [
      "\u001b[1;31m---------------------------------------------------------------------------\u001b[0m",
      "\u001b[1;31mOperationalError\u001b[0m                          Traceback (most recent call last)",
      "File \u001b[1;32mc:\\Programming Work\\BounceProject\\venv\\Lib\\site-packages\\sqlalchemy\\engine\\base.py:1967\u001b[0m, in \u001b[0;36mConnection._exec_single_context\u001b[1;34m(self, dialect, context, statement, parameters)\u001b[0m\n\u001b[0;32m   1966\u001b[0m     \u001b[38;5;28;01mif\u001b[39;00m \u001b[38;5;129;01mnot\u001b[39;00m evt_handled:\n\u001b[1;32m-> 1967\u001b[0m         \u001b[38;5;28;43mself\u001b[39;49m\u001b[38;5;241;43m.\u001b[39;49m\u001b[43mdialect\u001b[49m\u001b[38;5;241;43m.\u001b[39;49m\u001b[43mdo_execute\u001b[49m\u001b[43m(\u001b[49m\n\u001b[0;32m   1968\u001b[0m \u001b[43m            \u001b[49m\u001b[43mcursor\u001b[49m\u001b[43m,\u001b[49m\u001b[43m \u001b[49m\u001b[43mstr_statement\u001b[49m\u001b[43m,\u001b[49m\u001b[43m \u001b[49m\u001b[43meffective_parameters\u001b[49m\u001b[43m,\u001b[49m\u001b[43m \u001b[49m\u001b[43mcontext\u001b[49m\n\u001b[0;32m   1969\u001b[0m \u001b[43m        \u001b[49m\u001b[43m)\u001b[49m\n\u001b[0;32m   1971\u001b[0m \u001b[38;5;28;01mif\u001b[39;00m \u001b[38;5;28mself\u001b[39m\u001b[38;5;241m.\u001b[39m_has_events \u001b[38;5;129;01mor\u001b[39;00m \u001b[38;5;28mself\u001b[39m\u001b[38;5;241m.\u001b[39mengine\u001b[38;5;241m.\u001b[39m_has_events:\n",
      "File \u001b[1;32mc:\\Programming Work\\BounceProject\\venv\\Lib\\site-packages\\sqlalchemy\\engine\\default.py:941\u001b[0m, in \u001b[0;36mDefaultDialect.do_execute\u001b[1;34m(self, cursor, statement, parameters, context)\u001b[0m\n\u001b[0;32m    940\u001b[0m \u001b[38;5;28;01mdef\u001b[39;00m \u001b[38;5;21mdo_execute\u001b[39m(\u001b[38;5;28mself\u001b[39m, cursor, statement, parameters, context\u001b[38;5;241m=\u001b[39m\u001b[38;5;28;01mNone\u001b[39;00m):\n\u001b[1;32m--> 941\u001b[0m     \u001b[43mcursor\u001b[49m\u001b[38;5;241;43m.\u001b[39;49m\u001b[43mexecute\u001b[49m\u001b[43m(\u001b[49m\u001b[43mstatement\u001b[49m\u001b[43m,\u001b[49m\u001b[43m \u001b[49m\u001b[43mparameters\u001b[49m\u001b[43m)\u001b[49m\n",
      "\u001b[1;31mOperationalError\u001b[0m: no such table: Responses",
      "\nThe above exception was the direct cause of the following exception:\n",
      "\u001b[1;31mOperationalError\u001b[0m                          Traceback (most recent call last)",
      "Cell \u001b[1;32mIn[91], line 1\u001b[0m\n\u001b[1;32m----> 1\u001b[0m \u001b[43mdb\u001b[49m\u001b[38;5;241;43m.\u001b[39;49m\u001b[43mrun\u001b[49m\u001b[43m(\u001b[49m\n\u001b[0;32m      2\u001b[0m \u001b[38;5;250;43m    \u001b[39;49m\u001b[38;5;124;43;03m\"\"\"\u001b[39;49;00m\n\u001b[0;32m      3\u001b[0m \u001b[38;5;124;43;03m    SELECT COUNT(*)\u001b[39;49;00m\n\u001b[0;32m      4\u001b[0m \u001b[38;5;124;43;03mFROM \"Question_4\" AS q4\u001b[39;49;00m\n\u001b[0;32m      5\u001b[0m \u001b[38;5;124;43;03mJOIN \"Responses\" AS r ON q4.response_id = r.id\u001b[39;49;00m\n\u001b[0;32m      6\u001b[0m \u001b[38;5;124;43;03mJOIN \"Demographics\" AS d ON r.demographic_id = d.id\u001b[39;49;00m\n\u001b[0;32m      7\u001b[0m \u001b[38;5;124;43;03mWHERE d.gender = 'Male' AND q4.answer IN ('Always', 'Often', 'Sometimes');\u001b[39;49;00m\n\u001b[0;32m      8\u001b[0m \u001b[38;5;124;43;03m\"\"\"\u001b[39;49;00m\n\u001b[0;32m      9\u001b[0m \u001b[43m)\u001b[49m\n",
      "File \u001b[1;32mc:\\Programming Work\\BounceProject\\venv\\Lib\\site-packages\\langchain_community\\utilities\\sql_database.py:502\u001b[0m, in \u001b[0;36mSQLDatabase.run\u001b[1;34m(self, command, fetch, include_columns, parameters, execution_options)\u001b[0m\n\u001b[0;32m    488\u001b[0m \u001b[38;5;28;01mdef\u001b[39;00m \u001b[38;5;21mrun\u001b[39m(\n\u001b[0;32m    489\u001b[0m     \u001b[38;5;28mself\u001b[39m,\n\u001b[0;32m    490\u001b[0m     command: Union[\u001b[38;5;28mstr\u001b[39m, Executable],\n\u001b[1;32m   (...)\u001b[0m\n\u001b[0;32m    495\u001b[0m     execution_options: Optional[Dict[\u001b[38;5;28mstr\u001b[39m, Any]] \u001b[38;5;241m=\u001b[39m \u001b[38;5;28;01mNone\u001b[39;00m,\n\u001b[0;32m    496\u001b[0m ) \u001b[38;5;241m-\u001b[39m\u001b[38;5;241m>\u001b[39m Union[\u001b[38;5;28mstr\u001b[39m, Sequence[Dict[\u001b[38;5;28mstr\u001b[39m, Any]], Result[Any]]:\n\u001b[0;32m    497\u001b[0m \u001b[38;5;250m    \u001b[39m\u001b[38;5;124;03m\"\"\"Execute a SQL command and return a string representing the results.\u001b[39;00m\n\u001b[0;32m    498\u001b[0m \n\u001b[0;32m    499\u001b[0m \u001b[38;5;124;03m    If the statement returns rows, a string of the results is returned.\u001b[39;00m\n\u001b[0;32m    500\u001b[0m \u001b[38;5;124;03m    If the statement returns no rows, an empty string is returned.\u001b[39;00m\n\u001b[0;32m    501\u001b[0m \u001b[38;5;124;03m    \"\"\"\u001b[39;00m\n\u001b[1;32m--> 502\u001b[0m     result \u001b[38;5;241m=\u001b[39m \u001b[38;5;28;43mself\u001b[39;49m\u001b[38;5;241;43m.\u001b[39;49m\u001b[43m_execute\u001b[49m\u001b[43m(\u001b[49m\n\u001b[0;32m    503\u001b[0m \u001b[43m        \u001b[49m\u001b[43mcommand\u001b[49m\u001b[43m,\u001b[49m\u001b[43m \u001b[49m\u001b[43mfetch\u001b[49m\u001b[43m,\u001b[49m\u001b[43m \u001b[49m\u001b[43mparameters\u001b[49m\u001b[38;5;241;43m=\u001b[39;49m\u001b[43mparameters\u001b[49m\u001b[43m,\u001b[49m\u001b[43m \u001b[49m\u001b[43mexecution_options\u001b[49m\u001b[38;5;241;43m=\u001b[39;49m\u001b[43mexecution_options\u001b[49m\n\u001b[0;32m    504\u001b[0m \u001b[43m    \u001b[49m\u001b[43m)\u001b[49m\n\u001b[0;32m    506\u001b[0m     \u001b[38;5;28;01mif\u001b[39;00m fetch \u001b[38;5;241m==\u001b[39m \u001b[38;5;124m\"\u001b[39m\u001b[38;5;124mcursor\u001b[39m\u001b[38;5;124m\"\u001b[39m:\n\u001b[0;32m    507\u001b[0m         \u001b[38;5;28;01mreturn\u001b[39;00m result\n",
      "File \u001b[1;32mc:\\Programming Work\\BounceProject\\venv\\Lib\\site-packages\\langchain_community\\utilities\\sql_database.py:467\u001b[0m, in \u001b[0;36mSQLDatabase._execute\u001b[1;34m(self, command, fetch, parameters, execution_options)\u001b[0m\n\u001b[0;32m    465\u001b[0m \u001b[38;5;28;01melse\u001b[39;00m:\n\u001b[0;32m    466\u001b[0m     \u001b[38;5;28;01mraise\u001b[39;00m \u001b[38;5;167;01mTypeError\u001b[39;00m(\u001b[38;5;124mf\u001b[39m\u001b[38;5;124m\"\u001b[39m\u001b[38;5;124mQuery expression has unknown type: \u001b[39m\u001b[38;5;132;01m{\u001b[39;00m\u001b[38;5;28mtype\u001b[39m(command)\u001b[38;5;132;01m}\u001b[39;00m\u001b[38;5;124m\"\u001b[39m)\n\u001b[1;32m--> 467\u001b[0m cursor \u001b[38;5;241m=\u001b[39m \u001b[43mconnection\u001b[49m\u001b[38;5;241;43m.\u001b[39;49m\u001b[43mexecute\u001b[49m\u001b[43m(\u001b[49m\n\u001b[0;32m    468\u001b[0m \u001b[43m    \u001b[49m\u001b[43mcommand\u001b[49m\u001b[43m,\u001b[49m\n\u001b[0;32m    469\u001b[0m \u001b[43m    \u001b[49m\u001b[43mparameters\u001b[49m\u001b[43m,\u001b[49m\n\u001b[0;32m    470\u001b[0m \u001b[43m    \u001b[49m\u001b[43mexecution_options\u001b[49m\u001b[38;5;241;43m=\u001b[39;49m\u001b[43mexecution_options\u001b[49m\u001b[43m,\u001b[49m\n\u001b[0;32m    471\u001b[0m \u001b[43m\u001b[49m\u001b[43m)\u001b[49m\n\u001b[0;32m    473\u001b[0m \u001b[38;5;28;01mif\u001b[39;00m cursor\u001b[38;5;241m.\u001b[39mreturns_rows:\n\u001b[0;32m    474\u001b[0m     \u001b[38;5;28;01mif\u001b[39;00m fetch \u001b[38;5;241m==\u001b[39m \u001b[38;5;124m\"\u001b[39m\u001b[38;5;124mall\u001b[39m\u001b[38;5;124m\"\u001b[39m:\n",
      "File \u001b[1;32mc:\\Programming Work\\BounceProject\\venv\\Lib\\site-packages\\sqlalchemy\\engine\\base.py:1418\u001b[0m, in \u001b[0;36mConnection.execute\u001b[1;34m(self, statement, parameters, execution_options)\u001b[0m\n\u001b[0;32m   1416\u001b[0m     \u001b[38;5;28;01mraise\u001b[39;00m exc\u001b[38;5;241m.\u001b[39mObjectNotExecutableError(statement) \u001b[38;5;28;01mfrom\u001b[39;00m \u001b[38;5;21;01merr\u001b[39;00m\n\u001b[0;32m   1417\u001b[0m \u001b[38;5;28;01melse\u001b[39;00m:\n\u001b[1;32m-> 1418\u001b[0m     \u001b[38;5;28;01mreturn\u001b[39;00m \u001b[43mmeth\u001b[49m\u001b[43m(\u001b[49m\n\u001b[0;32m   1419\u001b[0m \u001b[43m        \u001b[49m\u001b[38;5;28;43mself\u001b[39;49m\u001b[43m,\u001b[49m\n\u001b[0;32m   1420\u001b[0m \u001b[43m        \u001b[49m\u001b[43mdistilled_parameters\u001b[49m\u001b[43m,\u001b[49m\n\u001b[0;32m   1421\u001b[0m \u001b[43m        \u001b[49m\u001b[43mexecution_options\u001b[49m\u001b[43m \u001b[49m\u001b[38;5;129;43;01mor\u001b[39;49;00m\u001b[43m \u001b[49m\u001b[43mNO_OPTIONS\u001b[49m\u001b[43m,\u001b[49m\n\u001b[0;32m   1422\u001b[0m \u001b[43m    \u001b[49m\u001b[43m)\u001b[49m\n",
      "File \u001b[1;32mc:\\Programming Work\\BounceProject\\venv\\Lib\\site-packages\\sqlalchemy\\sql\\elements.py:515\u001b[0m, in \u001b[0;36mClauseElement._execute_on_connection\u001b[1;34m(self, connection, distilled_params, execution_options)\u001b[0m\n\u001b[0;32m    513\u001b[0m     \u001b[38;5;28;01mif\u001b[39;00m TYPE_CHECKING:\n\u001b[0;32m    514\u001b[0m         \u001b[38;5;28;01massert\u001b[39;00m \u001b[38;5;28misinstance\u001b[39m(\u001b[38;5;28mself\u001b[39m, Executable)\n\u001b[1;32m--> 515\u001b[0m     \u001b[38;5;28;01mreturn\u001b[39;00m \u001b[43mconnection\u001b[49m\u001b[38;5;241;43m.\u001b[39;49m\u001b[43m_execute_clauseelement\u001b[49m\u001b[43m(\u001b[49m\n\u001b[0;32m    516\u001b[0m \u001b[43m        \u001b[49m\u001b[38;5;28;43mself\u001b[39;49m\u001b[43m,\u001b[49m\u001b[43m \u001b[49m\u001b[43mdistilled_params\u001b[49m\u001b[43m,\u001b[49m\u001b[43m \u001b[49m\u001b[43mexecution_options\u001b[49m\n\u001b[0;32m    517\u001b[0m \u001b[43m    \u001b[49m\u001b[43m)\u001b[49m\n\u001b[0;32m    518\u001b[0m \u001b[38;5;28;01melse\u001b[39;00m:\n\u001b[0;32m    519\u001b[0m     \u001b[38;5;28;01mraise\u001b[39;00m exc\u001b[38;5;241m.\u001b[39mObjectNotExecutableError(\u001b[38;5;28mself\u001b[39m)\n",
      "File \u001b[1;32mc:\\Programming Work\\BounceProject\\venv\\Lib\\site-packages\\sqlalchemy\\engine\\base.py:1640\u001b[0m, in \u001b[0;36mConnection._execute_clauseelement\u001b[1;34m(self, elem, distilled_parameters, execution_options)\u001b[0m\n\u001b[0;32m   1628\u001b[0m compiled_cache: Optional[CompiledCacheType] \u001b[38;5;241m=\u001b[39m execution_options\u001b[38;5;241m.\u001b[39mget(\n\u001b[0;32m   1629\u001b[0m     \u001b[38;5;124m\"\u001b[39m\u001b[38;5;124mcompiled_cache\u001b[39m\u001b[38;5;124m\"\u001b[39m, \u001b[38;5;28mself\u001b[39m\u001b[38;5;241m.\u001b[39mengine\u001b[38;5;241m.\u001b[39m_compiled_cache\n\u001b[0;32m   1630\u001b[0m )\n\u001b[0;32m   1632\u001b[0m compiled_sql, extracted_params, cache_hit \u001b[38;5;241m=\u001b[39m elem\u001b[38;5;241m.\u001b[39m_compile_w_cache(\n\u001b[0;32m   1633\u001b[0m     dialect\u001b[38;5;241m=\u001b[39mdialect,\n\u001b[0;32m   1634\u001b[0m     compiled_cache\u001b[38;5;241m=\u001b[39mcompiled_cache,\n\u001b[1;32m   (...)\u001b[0m\n\u001b[0;32m   1638\u001b[0m     linting\u001b[38;5;241m=\u001b[39m\u001b[38;5;28mself\u001b[39m\u001b[38;5;241m.\u001b[39mdialect\u001b[38;5;241m.\u001b[39mcompiler_linting \u001b[38;5;241m|\u001b[39m compiler\u001b[38;5;241m.\u001b[39mWARN_LINTING,\n\u001b[0;32m   1639\u001b[0m )\n\u001b[1;32m-> 1640\u001b[0m ret \u001b[38;5;241m=\u001b[39m \u001b[38;5;28;43mself\u001b[39;49m\u001b[38;5;241;43m.\u001b[39;49m\u001b[43m_execute_context\u001b[49m\u001b[43m(\u001b[49m\n\u001b[0;32m   1641\u001b[0m \u001b[43m    \u001b[49m\u001b[43mdialect\u001b[49m\u001b[43m,\u001b[49m\n\u001b[0;32m   1642\u001b[0m \u001b[43m    \u001b[49m\u001b[43mdialect\u001b[49m\u001b[38;5;241;43m.\u001b[39;49m\u001b[43mexecution_ctx_cls\u001b[49m\u001b[38;5;241;43m.\u001b[39;49m\u001b[43m_init_compiled\u001b[49m\u001b[43m,\u001b[49m\n\u001b[0;32m   1643\u001b[0m \u001b[43m    \u001b[49m\u001b[43mcompiled_sql\u001b[49m\u001b[43m,\u001b[49m\n\u001b[0;32m   1644\u001b[0m \u001b[43m    \u001b[49m\u001b[43mdistilled_parameters\u001b[49m\u001b[43m,\u001b[49m\n\u001b[0;32m   1645\u001b[0m \u001b[43m    \u001b[49m\u001b[43mexecution_options\u001b[49m\u001b[43m,\u001b[49m\n\u001b[0;32m   1646\u001b[0m \u001b[43m    \u001b[49m\u001b[43mcompiled_sql\u001b[49m\u001b[43m,\u001b[49m\n\u001b[0;32m   1647\u001b[0m \u001b[43m    \u001b[49m\u001b[43mdistilled_parameters\u001b[49m\u001b[43m,\u001b[49m\n\u001b[0;32m   1648\u001b[0m \u001b[43m    \u001b[49m\u001b[43melem\u001b[49m\u001b[43m,\u001b[49m\n\u001b[0;32m   1649\u001b[0m \u001b[43m    \u001b[49m\u001b[43mextracted_params\u001b[49m\u001b[43m,\u001b[49m\n\u001b[0;32m   1650\u001b[0m \u001b[43m    \u001b[49m\u001b[43mcache_hit\u001b[49m\u001b[38;5;241;43m=\u001b[39;49m\u001b[43mcache_hit\u001b[49m\u001b[43m,\u001b[49m\n\u001b[0;32m   1651\u001b[0m \u001b[43m\u001b[49m\u001b[43m)\u001b[49m\n\u001b[0;32m   1652\u001b[0m \u001b[38;5;28;01mif\u001b[39;00m has_events:\n\u001b[0;32m   1653\u001b[0m     \u001b[38;5;28mself\u001b[39m\u001b[38;5;241m.\u001b[39mdispatch\u001b[38;5;241m.\u001b[39mafter_execute(\n\u001b[0;32m   1654\u001b[0m         \u001b[38;5;28mself\u001b[39m,\n\u001b[0;32m   1655\u001b[0m         elem,\n\u001b[1;32m   (...)\u001b[0m\n\u001b[0;32m   1659\u001b[0m         ret,\n\u001b[0;32m   1660\u001b[0m     )\n",
      "File \u001b[1;32mc:\\Programming Work\\BounceProject\\venv\\Lib\\site-packages\\sqlalchemy\\engine\\base.py:1846\u001b[0m, in \u001b[0;36mConnection._execute_context\u001b[1;34m(self, dialect, constructor, statement, parameters, execution_options, *args, **kw)\u001b[0m\n\u001b[0;32m   1844\u001b[0m     \u001b[38;5;28;01mreturn\u001b[39;00m \u001b[38;5;28mself\u001b[39m\u001b[38;5;241m.\u001b[39m_exec_insertmany_context(dialect, context)\n\u001b[0;32m   1845\u001b[0m \u001b[38;5;28;01melse\u001b[39;00m:\n\u001b[1;32m-> 1846\u001b[0m     \u001b[38;5;28;01mreturn\u001b[39;00m \u001b[38;5;28;43mself\u001b[39;49m\u001b[38;5;241;43m.\u001b[39;49m\u001b[43m_exec_single_context\u001b[49m\u001b[43m(\u001b[49m\n\u001b[0;32m   1847\u001b[0m \u001b[43m        \u001b[49m\u001b[43mdialect\u001b[49m\u001b[43m,\u001b[49m\u001b[43m \u001b[49m\u001b[43mcontext\u001b[49m\u001b[43m,\u001b[49m\u001b[43m \u001b[49m\u001b[43mstatement\u001b[49m\u001b[43m,\u001b[49m\u001b[43m \u001b[49m\u001b[43mparameters\u001b[49m\n\u001b[0;32m   1848\u001b[0m \u001b[43m    \u001b[49m\u001b[43m)\u001b[49m\n",
      "File \u001b[1;32mc:\\Programming Work\\BounceProject\\venv\\Lib\\site-packages\\sqlalchemy\\engine\\base.py:1986\u001b[0m, in \u001b[0;36mConnection._exec_single_context\u001b[1;34m(self, dialect, context, statement, parameters)\u001b[0m\n\u001b[0;32m   1983\u001b[0m     result \u001b[38;5;241m=\u001b[39m context\u001b[38;5;241m.\u001b[39m_setup_result_proxy()\n\u001b[0;32m   1985\u001b[0m \u001b[38;5;28;01mexcept\u001b[39;00m \u001b[38;5;167;01mBaseException\u001b[39;00m \u001b[38;5;28;01mas\u001b[39;00m e:\n\u001b[1;32m-> 1986\u001b[0m     \u001b[38;5;28;43mself\u001b[39;49m\u001b[38;5;241;43m.\u001b[39;49m\u001b[43m_handle_dbapi_exception\u001b[49m\u001b[43m(\u001b[49m\n\u001b[0;32m   1987\u001b[0m \u001b[43m        \u001b[49m\u001b[43me\u001b[49m\u001b[43m,\u001b[49m\u001b[43m \u001b[49m\u001b[43mstr_statement\u001b[49m\u001b[43m,\u001b[49m\u001b[43m \u001b[49m\u001b[43meffective_parameters\u001b[49m\u001b[43m,\u001b[49m\u001b[43m \u001b[49m\u001b[43mcursor\u001b[49m\u001b[43m,\u001b[49m\u001b[43m \u001b[49m\u001b[43mcontext\u001b[49m\n\u001b[0;32m   1988\u001b[0m \u001b[43m    \u001b[49m\u001b[43m)\u001b[49m\n\u001b[0;32m   1990\u001b[0m \u001b[38;5;28;01mreturn\u001b[39;00m result\n",
      "File \u001b[1;32mc:\\Programming Work\\BounceProject\\venv\\Lib\\site-packages\\sqlalchemy\\engine\\base.py:2355\u001b[0m, in \u001b[0;36mConnection._handle_dbapi_exception\u001b[1;34m(self, e, statement, parameters, cursor, context, is_sub_exec)\u001b[0m\n\u001b[0;32m   2353\u001b[0m \u001b[38;5;28;01melif\u001b[39;00m should_wrap:\n\u001b[0;32m   2354\u001b[0m     \u001b[38;5;28;01massert\u001b[39;00m sqlalchemy_exception \u001b[38;5;129;01mis\u001b[39;00m \u001b[38;5;129;01mnot\u001b[39;00m \u001b[38;5;28;01mNone\u001b[39;00m\n\u001b[1;32m-> 2355\u001b[0m     \u001b[38;5;28;01mraise\u001b[39;00m sqlalchemy_exception\u001b[38;5;241m.\u001b[39mwith_traceback(exc_info[\u001b[38;5;241m2\u001b[39m]) \u001b[38;5;28;01mfrom\u001b[39;00m \u001b[38;5;21;01me\u001b[39;00m\n\u001b[0;32m   2356\u001b[0m \u001b[38;5;28;01melse\u001b[39;00m:\n\u001b[0;32m   2357\u001b[0m     \u001b[38;5;28;01massert\u001b[39;00m exc_info[\u001b[38;5;241m1\u001b[39m] \u001b[38;5;129;01mis\u001b[39;00m \u001b[38;5;129;01mnot\u001b[39;00m \u001b[38;5;28;01mNone\u001b[39;00m\n",
      "File \u001b[1;32mc:\\Programming Work\\BounceProject\\venv\\Lib\\site-packages\\sqlalchemy\\engine\\base.py:1967\u001b[0m, in \u001b[0;36mConnection._exec_single_context\u001b[1;34m(self, dialect, context, statement, parameters)\u001b[0m\n\u001b[0;32m   1965\u001b[0m                 \u001b[38;5;28;01mbreak\u001b[39;00m\n\u001b[0;32m   1966\u001b[0m     \u001b[38;5;28;01mif\u001b[39;00m \u001b[38;5;129;01mnot\u001b[39;00m evt_handled:\n\u001b[1;32m-> 1967\u001b[0m         \u001b[38;5;28;43mself\u001b[39;49m\u001b[38;5;241;43m.\u001b[39;49m\u001b[43mdialect\u001b[49m\u001b[38;5;241;43m.\u001b[39;49m\u001b[43mdo_execute\u001b[49m\u001b[43m(\u001b[49m\n\u001b[0;32m   1968\u001b[0m \u001b[43m            \u001b[49m\u001b[43mcursor\u001b[49m\u001b[43m,\u001b[49m\u001b[43m \u001b[49m\u001b[43mstr_statement\u001b[49m\u001b[43m,\u001b[49m\u001b[43m \u001b[49m\u001b[43meffective_parameters\u001b[49m\u001b[43m,\u001b[49m\u001b[43m \u001b[49m\u001b[43mcontext\u001b[49m\n\u001b[0;32m   1969\u001b[0m \u001b[43m        \u001b[49m\u001b[43m)\u001b[49m\n\u001b[0;32m   1971\u001b[0m \u001b[38;5;28;01mif\u001b[39;00m \u001b[38;5;28mself\u001b[39m\u001b[38;5;241m.\u001b[39m_has_events \u001b[38;5;129;01mor\u001b[39;00m \u001b[38;5;28mself\u001b[39m\u001b[38;5;241m.\u001b[39mengine\u001b[38;5;241m.\u001b[39m_has_events:\n\u001b[0;32m   1972\u001b[0m     \u001b[38;5;28mself\u001b[39m\u001b[38;5;241m.\u001b[39mdispatch\u001b[38;5;241m.\u001b[39mafter_cursor_execute(\n\u001b[0;32m   1973\u001b[0m         \u001b[38;5;28mself\u001b[39m,\n\u001b[0;32m   1974\u001b[0m         cursor,\n\u001b[1;32m   (...)\u001b[0m\n\u001b[0;32m   1978\u001b[0m         context\u001b[38;5;241m.\u001b[39mexecutemany,\n\u001b[0;32m   1979\u001b[0m     )\n",
      "File \u001b[1;32mc:\\Programming Work\\BounceProject\\venv\\Lib\\site-packages\\sqlalchemy\\engine\\default.py:941\u001b[0m, in \u001b[0;36mDefaultDialect.do_execute\u001b[1;34m(self, cursor, statement, parameters, context)\u001b[0m\n\u001b[0;32m    940\u001b[0m \u001b[38;5;28;01mdef\u001b[39;00m \u001b[38;5;21mdo_execute\u001b[39m(\u001b[38;5;28mself\u001b[39m, cursor, statement, parameters, context\u001b[38;5;241m=\u001b[39m\u001b[38;5;28;01mNone\u001b[39;00m):\n\u001b[1;32m--> 941\u001b[0m     \u001b[43mcursor\u001b[49m\u001b[38;5;241;43m.\u001b[39;49m\u001b[43mexecute\u001b[49m\u001b[43m(\u001b[49m\u001b[43mstatement\u001b[49m\u001b[43m,\u001b[49m\u001b[43m \u001b[49m\u001b[43mparameters\u001b[49m\u001b[43m)\u001b[49m\n",
      "\u001b[1;31mOperationalError\u001b[0m: (sqlite3.OperationalError) no such table: Responses\n[SQL: \n    SELECT COUNT(*)\nFROM \"Question_4\" AS q4\nJOIN \"Responses\" AS r ON q4.response_id = r.id\nJOIN \"Demographics\" AS d ON r.demographic_id = d.id\nWHERE d.gender = 'Male' AND q4.answer IN ('Always', 'Often', 'Sometimes');\n]\n(Background on this error at: https://sqlalche.me/e/20/e3q8)"
     ]
    }
   ],
   "source": [
    "db.run(\n",
    "    \"\"\"\n",
    "    SELECT COUNT(*)\n",
    "FROM \"Question_4\" AS q4\n",
    "JOIN \"Responses\" AS r ON q4.response_id = r.id\n",
    "JOIN \"Demographics\" AS d ON r.demographic_id = d.id\n",
    "WHERE d.gender = 'Male' AND q4.answer IN ('Always', 'Often', 'Sometimes');\n",
    "\"\"\"\n",
    ")"
   ]
  },
  {
   "cell_type": "markdown",
   "metadata": {},
   "source": [
    "### Code to use"
   ]
  },
  {
   "cell_type": "code",
   "execution_count": 111,
   "metadata": {},
   "outputs": [
    {
     "name": "stdout",
     "output_type": "stream",
     "text": [
      "\n",
      "\n",
      "\u001b[1m> Entering new SQL Agent Executor chain...\u001b[0m\n",
      "\u001b[32;1m\u001b[1;3m\n",
      "Invoking: `sql_db_list_tables` with `{}`\n",
      "\n",
      "\n",
      "\u001b[0m\u001b[38;5;200m\u001b[1;3mQuestion_1, Question_10, Question_11, Question_12, Question_13, Question_14, Question_15, Question_16, Question_17, Question_18, Question_19, Question_2, Question_20, Question_3, Question_4, Question_5, Question_6, Question_7, Question_8, Question_9, Questions\u001b[0m\u001b[32;1m\u001b[1;3m\n",
      "Invoking: `sql_db_schema` with `{'table_names': 'Question_3, Question_4, Question_5, Question_6, Question_7, Questions'}`\n",
      "\n",
      "\n",
      "\u001b[0m\u001b[33;1m\u001b[1;3m\n",
      "CREATE TABLE \"Question_3\" (\n",
      "\t\"Vegetarian \" TEXT, \n",
      "\t\"Vegan \" TEXT, \n",
      "\t\"Pescatarian \" TEXT, \n",
      "\t\"Halal \" TEXT, \n",
      "\t\"Kosher \" TEXT, \n",
      "\t\"None of the above \" TEXT, \n",
      "\t\"Question_Number\" TEXT, \n",
      "\t\"Options\" TEXT\n",
      ")\n",
      "\n",
      "/*\n",
      "3 rows from Question_3 table:\n",
      "Vegetarian \tVegan \tPescatarian \tHalal \tKosher \tNone of the above \tQuestion_Number\tOptions\n",
      "90.0\t44.0\t61.0\t87.0\t11.0\t715.0\t0.0\tValue\n",
      "41.0\t18.0\t29.0\t47.0\t6.0\t335.0\t0.0\tMale\n",
      "49.0\t26.0\t32.0\t40.0\t5.0\t380.0\t0.0\tFemale\n",
      "*/\n",
      "\n",
      "\n",
      "CREATE TABLE \"Question_4\" (\n",
      "\t\"Always \" TEXT, \n",
      "\t\"Often \" TEXT, \n",
      "\t\"Sometimes \" TEXT, \n",
      "\t\"Rarely \" TEXT, \n",
      "\t\"Never\" TEXT, \n",
      "\t\"Question_Number\" TEXT, \n",
      "\t\"Options\" TEXT\n",
      ")\n",
      "\n",
      "/*\n",
      "3 rows from Question_4 table:\n",
      "Always \tOften \tSometimes \tRarely \tNever\tQuestion_Number\tOptions\n",
      "168.0\t366.0\t379.0\t65.0\t30.0\t0.0\tValue\n",
      "90.0\t161.0\t179.0\t34.0\t13.0\t0.0\tMale\n",
      "78.0\t205.0\t200.0\t31.0\t17.0\t0.0\tFemale\n",
      "*/\n",
      "\n",
      "\n",
      "CREATE TABLE \"Question_5\" (\n",
      "\t\"Very important \" TEXT, \n",
      "\t\"Fairly important \" TEXT, \n",
      "\t\"Neither \" TEXT, \n",
      "\t\"Fairly unimportant\" TEXT, \n",
      "\t\"Very unimportant \" TEXT, \n",
      "\t\"Question_Number\" TEXT, \n",
      "\t\"Options\" TEXT\n",
      ")\n",
      "\n",
      "/*\n",
      "3 rows from Question_5 table:\n",
      "Very important \tFairly important \tNeither \tFairly unimportant\tVery unimportant \tQuestion_Number\tOptions\n",
      "259.0\t456.0\t205.0\t56.0\t31.0\t0.0\tValue\n",
      "128.0\t211.0\t92.0\t28.0\t17.0\t0.0\tMale\n",
      "131.0\t245.0\t113.0\t28.0\t14.0\t0.0\tFemale\n",
      "*/\n",
      "\n",
      "\n",
      "CREATE TABLE \"Question_6\" (\n",
      "\t\"Environmentally Friendly\" TEXT, \n",
      "\t\"Good for the planet\" TEXT, \n",
      "\t\"Less waste\" TEXT, \n",
      "\t\"Local\" TEXT, \n",
      "\t\"Ethical\" TEXT, \n",
      "\t\"Don't Know\" TEXT, \n",
      "\t\"Longer lasting\" TEXT, \n",
      "\t\"No natural resource depletion\" TEXT, \n",
      "\t\"Recyclable\" TEXT, \n",
      "\t\"Locally Sourced\" TEXT, \n",
      "\t\"Zero Carbon\" TEXT, \n",
      "\t\"Reuse or Repurpose\" TEXT, \n",
      "\t\"No Group\" TEXT, \n",
      "\t\"Question_Number\" TEXT, \n",
      "\t\"Options\" TEXT\n",
      ")\n",
      "\n",
      "/*\n",
      "3 rows from Question_6 table:\n",
      "Environmentally Friendly\tGood for the planet\tLess waste\tLocal\tEthical\tDon't Know\tLonger lasting\tNo natural resource depletion\tRecyclable\tLocally Sourced\tZero Carbon\tReuse or Repurpose\tNo Group\tQuestion_Number\tOptions\n",
      "371.0\t395.0\t50.0\t28.0\t68.0\t69.0\t127.0\t119.0\t100.0\t23.0\t37.0\t85.0\t161.0\t0.0\tValue\n",
      "165.0\t177.0\t20.0\t15.0\t31.0\t30.0\t61.0\t65.0\t34.0\t13.0\t21.0\t34.0\t92.0\t0.0\tMale\n",
      "206.0\t218.0\t30.0\t13.0\t37.0\t39.0\t66.0\t54.0\t66.0\t10.0\t16.0\t51.0\t69.0\t0.0\tFemale\n",
      "*/\n",
      "\n",
      "\n",
      "CREATE TABLE \"Question_7\" (\n",
      "\t\"Check if products are made from recyclable or biodegradable materials  - Always \" TEXT, \n",
      "\t\"Check if products are made from recyclable or biodegradable materials  - Often \" TEXT, \n",
      "\t\"Check if products are made from recyclable or biodegradable materials  - Rarely \" TEXT, \n",
      "\t\"Check if products are made from recyclable or biodegradable materials  - Sometimes \" TEXT, \n",
      "\t\"Check if products are made from recyclable or biodegradable materials  - Never \" TEXT, \n",
      "\t\"Limit my use of single use plastics  - Always \" TEXT, \n",
      "\t\"Limit my use of single use plastics  - Often \" TEXT, \n",
      "\t\"Limit my use of single use plastics  - Rarely \" TEXT, \n",
      "\t\"Limit my use of single use plastics  - Sometimes \" TEXT, \n",
      "\t\"Limit my use of single use plastics  - Never \" TEXT, \n",
      "\t\"Pay more for a more durable / longer lasting items - Always \" TEXT, \n",
      "\t\"Pay more for a more durable / longer lasting items - Often \" TEXT, \n",
      "\t\"Pay more for a more durable / longer lasting items - Rarely \" TEXT, \n",
      "\t\"Pay more for a more durable / longer lasting items - Sometimes \" TEXT, \n",
      "\t\"Pay more for a more durable / longer lasting items - Never \" TEXT, \n",
      "\t\"Purchase fewer plastics - Always \" TEXT, \n",
      "\t\"Purchase fewer plastics - Often \" TEXT, \n",
      "\t\"Purchase fewer plastics - Rarely \" TEXT, \n",
      "\t\"Purchase fewer plastics - Sometimes \" TEXT, \n",
      "\t\"Purchase fewer plastics - Never \" TEXT, \n",
      "\t\"Purchase more locally produced goods - Always \" TEXT, \n",
      "\t\"Purchase more locally produced goods - Often \" TEXT, \n",
      "\t\"Purchase more locally produced goods - Rarely \" TEXT, \n",
      "\t\"Purchase more locally produced goods - Sometimes \" TEXT, \n",
      "\t\"Purchase more locally produced goods - Never \" TEXT, \n",
      "\t\"Purchase products made of natural ingredients - Always \" TEXT, \n",
      "\t\"Purchase products made of natural ingredients - Often \" TEXT, \n",
      "\t\"Purchase products made of natural ingredients - Rarely \" TEXT, \n",
      "\t\"Purchase products made of natural ingredients - Sometimes \" TEXT, \n",
      "\t\"Purchase products made of natural ingredients - Never \" TEXT, \n",
      "\t\"Purchase second-hand items - Always \" TEXT, \n",
      "\t\"Purchase second-hand items - Often \" TEXT, \n",
      "\t\"Purchase second-hand items - Rarely \" TEXT, \n",
      "\t\"Purchase second-hand items - Sometimes \" TEXT, \n",
      "\t\"Purchase second-hand items - Never \" TEXT, \n",
      "\t\"Question_Number\" TEXT, \n",
      "\t\"Options\" TEXT\n",
      ")\n",
      "\n",
      "/*\n",
      "3 rows from Question_7 table:\n",
      "Check if products are made from recyclable or biodegradable materials  - Always \tCheck if products are made from recyclable or biodegradable materials  - Often \tCheck if products are made from recyclable or biodegradable materials  - Rarely \tCheck if products are made from recyclable or biodegradable materials  - Sometimes \tCheck if products are made from recyclable or biodegradable materials  - Never \tLimit my use of single use plastics  - Always \tLimit my use of single use plastics  - Often \tLimit my use of single use plastics  - Rarely \tLimit my use of single use plastics  - Sometimes \tLimit my use of single use plastics  - Never \tPay more for a more durable / longer lasting items - Always \tPay more for a more durable / longer lasting items - Often \tPay more for a more durable / longer lasting items - Rarely \tPay more for a more durable / longer lasting items - Sometimes \tPay more for a more durable / longer lasting items - Never \tPurchase fewer plastics - Always \tPurchase fewer plastics - Often \tPurchase fewer plastics - Rarely \tPurchase fewer plastics - Sometimes \tPurchase fewer plastics - Never \tPurchase more locally produced goods - Always \tPurchase more locally produced goods - Often \tPurchase more locally produced goods - Rarely \tPurchase more locally produced goods - Sometimes \tPurchase more locally produced goods - Never \tPurchase products made of natural ingredients - Always \tPurchase products made of natural ingredients - Often \tPurchase products made of natural ingredients - Rarely \tPurchase products made of natural ingredients - Sometimes \tPurchase products made of natural ingredients - Never \tPurchase second-hand items - Always \tPurchase second-hand items - Often \tPurchase second-hand items - Rarely \tPurchase second-hand items - Sometimes \tPurchase second-hand items - Never \tQuestion_Number\tOptions\n",
      "167.0\t344.0\t215.0\t169.0\t114.0\t232.0\t424.0\t149.0\t153.0\t51.0\t183.0\t414.0\t167.0\t183.0\t62.0\t200.0\t393.0\t164.0\t211.0\t41.0\t167.0\t400.0\t178.0\t217.0\t47.0\t153.0\t447.0\t172.0\t198.0\t39.0\t116.0\t375.0\t227.0\t200.0\t91.0\t0.0\tValue\n",
      "75.0\t164.0\t107.0\t81.0\t50.0\t101.0\t190.0\t81.0\t76.0\t29.0\t76.0\t200.0\t88.0\t81.0\t32.0\t89.0\t181.0\t83.0\t101.0\t23.0\t71.0\t188.0\t87.0\t107.0\t24.0\t69.0\t207.0\t91.0\t93.0\t17.0\t43.0\t154.0\t127.0\t106.0\t47.0\t0.0\tMale\n",
      "92.0\t180.0\t108.0\t88.0\t64.0\t131.0\t234.0\t68.0\t77.0\t22.0\t107.0\t214.0\t79.0\t102.0\t30.0\t111.0\t212.0\t81.0\t110.0\t18.0\t96.0\t212.0\t91.0\t110.0\t23.0\t84.0\t240.0\t81.0\t105.0\t22.0\t73.0\t221.0\t100.0\t94.0\t44.0\t0.0\tFemale\n",
      "*/\n",
      "\n",
      "\n",
      "CREATE TABLE \"Questions\" (\n",
      "\t\"Question_Number\" INTEGER, \n",
      "\t\"Question\" TEXT\n",
      ")\n",
      "\n",
      "/*\n",
      "3 rows from Questions table:\n",
      "Question_Number\tQuestion\n",
      "0\tCommon Data\n",
      "1\tPlease rank the importance of the following issues facing the UK today. From 1 being the most import\n",
      "2\tPlease select which, if any, of the following most closely represents your dietary preference:\n",
      "*/\u001b[0m\u001b[32;1m\u001b[1;3m\n",
      "Invoking: `sql_db_query` with `{'query': 'SELECT \"Always \", \"Often \", \"Sometimes \", \"Rarely \", \"Never\" FROM Question_4 WHERE Options = \\'Male\\' LIMIT 10;'}`\n",
      "responded: To determine how much males buy sustainable and environmentally friendly products, we can refer to the \"Question_4\" table, which contains data on the frequency of purchasing such products. Let's query the relevant data for males.\n",
      "\n",
      "\u001b[0m\u001b[36;1m\u001b[1;3m[('90.0', '161.0', '179.0', '34.0', '13.0')]\u001b[0m\u001b[32;1m\u001b[1;3mThe data for males purchasing sustainable and environmentally friendly products is as follows:\n",
      "\n",
      "- Always: 90\n",
      "- Often: 161\n",
      "- Sometimes: 179\n",
      "- Rarely: 34\n",
      "- Never: 13\n",
      "\n",
      "This indicates that a significant number of males often or sometimes purchase sustainable and environmentally friendly products.\u001b[0m\n",
      "\n",
      "\u001b[1m> Finished chain.\u001b[0m\n"
     ]
    }
   ],
   "source": [
    "from langchain_community.agent_toolkits import create_sql_agent\n",
    "\n",
    "agent_executor = create_sql_agent(llm, db=db, agent_type=\"openai-tools\", verbose=True)\n",
    "\n",
    "answer = agent_executor.invoke(\n",
    "    {\n",
    "        \"input\": f\" Option column has values : {op_cols} And Questions table contain {ques} from survey which are linked with all other tables. Keeping that in mind How much male buy sustainable and enviromentaly friendly products?\"\n",
    "    }\n",
    ")"
   ]
  },
  {
   "cell_type": "code",
   "execution_count": 112,
   "metadata": {},
   "outputs": [
    {
     "data": {
      "text/plain": [
       "{'input': ' Option column has values : [(\\'Value\\',), (\\'Male\\',), (\\'Female\\',), (\\'North East\\',), (\\'North West\\',), (\\'Yorkshire & The Humber\\',), (\\'East Midlands\\',), (\\'West Midlands\\',), (\\'East of England\\',), (\\'London\\',), (\\'South East\\',), (\\'South West\\',), (\\'Wales\\',), (\\'Scotland\\',), (\\'Northern Ireland\\',), (\\'18-24\\',), (\\'25-34\\',), (\\'35-44\\',), (\\'45-54\\',), (\\'55-64\\',), (\\'Vegetarian\\',), (\\'Vegan\\',), (\\'Pescatarian\\',), (\\'Halal\\',), (\\'Kosher\\',), (\\'None of the above\\',), (\\'Always\\',), (\\'Often\\',), (\\'Sometimes\\',), (\\'Rarely\\',), (\\'Never\\',), (\\'Very important\\',), (\\'Fairly important\\',), (\\'Neither\\',), (\\'Fairly unimportant\\',), (\\'Very unimportant\\',), (\\'Environmentally Friendly\\',), (\\'Good for the planet\\',), (\\'Less waste\\',), (\\'Local\\',), (\\'Ethical\\',), (\"Don\\'t Know\",), (\\'Longer lasting\\',), (\\'No natural resource depletion\\',), (\\'Recyclable\\',), (\\'Locally Sourced\\',), (\\'Zero Carbon\\',), (\\'Reuse or Repurpose\\',), (\\'No Group\\',), (\\'The UK government\\',), (\\'Global corporations e.g the companies that own large well-known brands\\',), (\\'Global agencies e.g WWF, Greenpeace, friends of the earth etc\\',), (\\'All adults who live in the UK\\',), (\\'All of the above\\',), (\\'Very Much\\',), (\\'Somewhat\\',), (\\'Undecided\\',), (\\'Not Really\\',), (\\'Not at all\\',), (\\'Deforestation-free supply chain (minimising the consumption of products associated with deforestation and forest degradation)\\',), (\\'Donating a proportion of profits to environmental organisations\\',), (\\'Implementing reduced waste goals\\',), (\\'Partnering with local producers of materials\\',), (\\'Planting trees to help protect the environment\\',), (\\'Reducing greenhouse gas emissions\\',), (\\'Reducing production of plastic packaging\\',), (\\'Sourcing renewable / ‘green’ energy for production\\',), (\\'Using biofuels\\',), (\\'Using certified ‘sustainable’ materials in production (eg Forest Stewardship Council-certified (FSC)\\',), (\\'None of the above\\',), (\\'Deforestation-free supply chain (minimising the consumption of products associated with deforestation and forest degradation)\\',), (\\'Donating a proportion of profits to environmental organisations\\',), (\\'Implementing reduced waste goals\\',), (\\'Partnering with local producers of materials\\',), (\\'Planting trees to help protect the environment\\',), (\\'Reducing greenhouse gas emissions\\',), (\\'Reducing production of plastic packaging\\',), (\\'Sourcing renewable / ‘green’ energy for production\\',), (\\'Using biofuels\\',), (\\'Using certified ‘sustainable’ materials in production (eg Forest Stewardship Council-certified (FSC)\\',), (\\'None of the above\\',), (\\'Very influenced\\',), (\\'Fairly influenced\\',), (\\'Neither\\',), (\\'Not very influenced\\',), (\\'Not at all influenced\\',), (\\'Yes\\',), (\\'No\\',), (\"Don\\'t know\",), (\\'Food & Beverage (food items, alcohol, carbonated drinks etc)\\',), (\\'Health, Beauty & Cosmetics (haircare, skincare, make up, fragrances, toiletries etc.)\\',), (\\'Household Goods (cleaning items, food wrapping, toilet paper etc.)\\',), (\\'Fashion & Clothing (sports, casual, speciality, everyday etc)\\',), (\\'Computers & Consumer Electronics (home appliances, entertainment, gaming etc)\\',), (\\'Other\\',), (\\'Use of Chemicals\\',), (\\'Use of Palm Oil\\',), (\\'Animal Testing\\',), (\\'Ethical Concerns\\',), (\\'Plastic Packaging\\',), (\\'Renewable Resources\\',), (\\'Environmental Impact\\',), (\\'Sustainability\\',), (\\'Unethical Practices\\',), (\\'Supporting Genocide\\',), (\\'Quality\\',), (\\'Price\\',), (\\'No Group\\',), (\\'Strongly Agree\\',), (\\'Slightly Agree\\',), (\\'Neither\\',), (\\'Slightly Disagree\\',), (\\'Strongly Disagree\\',), (\\'Amazon\\',), (\\'Smol\\',), (\\'Coca Cola\\',), (\\'Patagonia\\',), (\\'The Body Shop\\',), (\\'Apple\\',), (\\'Lush\\',), (\\'Lidl\\',), (\\'Ecover\\',), (\\'Oceansaver\\',), (\\'Tesco\\',), (\"No / Don\\'t Know\",), (\\'Tesla\\',), (\\'Nike\\',), (\\'No Group\\',)] And Questions table contain [(0, \\'Common Data\\'), (1, \\'Please rank the importance of the following issues facing the UK today. From 1 being the most important to 10 being of lesser importance. Please drag and drop the options into place from 1 to 10. \\'), (2, \\'Please select which, if any, of the following most closely represents your dietary preference:\\'), (3, \\'How frequently or not would you say you purchase products that could be considered as environmentally friendly or sustainable?\\'), (4, \\' In your opinion how important or not are the sustainability credentials of the brands / products that you buy?\\'), (5, \\'What does the term \\\\x91sustainable\\\\x92 mean to you?\\'), (6, \\'How frequently do you engage in any of the following practices?\\'), (7, \\'And how frequently do you engage in any of the following practices?\\'), (8, \\'Primarily, who\\\\x92s responsibility do you believe it is to drive sustainability practises / values in the UK? You may choose only one option. \\'), (9, \\'To what extent do you trust companies and the messages they communicate based on being environmentally friendly / sustainable?\\'), (10, \\'Which of the following types of claims by companies who produce consumer products do you find most impactful when choosing to purchase brands / products? Please select all that apply\\'), (11, \\'And, which of the following claims do you find the most impactful when choosing to purchase brands / products from that company? You may choose only one option. \\'), (12, \"When shopping for items in store or online, how influenced or not are you to make a purchase decision based on environmental / sustainable claims that appear on a product\\'s packaging?\"), (13, \\'In general, how do you rate each of the following categories on their sustainability practices / values?\\'), (14, \\'Please rank the following categories from the one you feel is most sustainability focused (1) to the one you feel is least sustainability focused (5)\\'), (15, \\'Have you ever stopped buying a brand / product for ethical or sustainability reasons?\\'), (16, \\'Which category did the brand product belong to:\\'), (17, \\'What was the reason you stopped buying this brand / product?\\'), (18, \\'Thinking about each of the following categories individually. How much extra are you willing to pay for products in this category that are more environmentally conscious / engage in sustainable practices?\\'), (19, \\'How much do you agree or disagree with the following statement? \\\\x91The more expensive the brand / product, the more credible its sustainability claims are\\\\x92\\'), (20, \\'Can you name one brand that stands out to you for its environmental / sustainability focus? And why?\\')] from survey which are linked with all other tables. Keeping that in mind How much male buy sustainable and enviromentaly friendly products?',\n",
       " 'output': 'The data for males purchasing sustainable and environmentally friendly products is as follows:\\n\\n- Always: 90\\n- Often: 161\\n- Sometimes: 179\\n- Rarely: 34\\n- Never: 13\\n\\nThis indicates that a significant number of males often or sometimes purchase sustainable and environmentally friendly products.'}"
      ]
     },
     "execution_count": 112,
     "metadata": {},
     "output_type": "execute_result"
    }
   ],
   "source": [
    "answer"
   ]
  },
  {
   "cell_type": "code",
   "execution_count": 118,
   "metadata": {},
   "outputs": [
    {
     "name": "stdout",
     "output_type": "stream",
     "text": [
      "\n",
      "\n",
      "\u001b[1m> Entering new SQL Agent Executor chain...\u001b[0m\n",
      "\u001b[32;1m\u001b[1;3m\n",
      "Invoking: `sql_db_list_tables` with `{}`\n",
      "\n",
      "\n",
      "\u001b[0m\u001b[38;5;200m\u001b[1;3mQuestion_1, Question_10, Question_11, Question_12, Question_13, Question_14, Question_15, Question_16, Question_17, Question_18, Question_19, Question_2, Question_20, Question_3, Question_4, Question_5, Question_6, Question_7, Question_8, Question_9, Questions\u001b[0m\u001b[32;1m\u001b[1;3m\n",
      "Invoking: `sql_db_schema` with `{'table_names': 'Question_3, Question_4, Question_5, Question_6, Question_7, Questions'}`\n",
      "\n",
      "\n",
      "\u001b[0m\u001b[33;1m\u001b[1;3m\n",
      "CREATE TABLE \"Question_3\" (\n",
      "\t\"Vegetarian \" TEXT, \n",
      "\t\"Vegan \" TEXT, \n",
      "\t\"Pescatarian \" TEXT, \n",
      "\t\"Halal \" TEXT, \n",
      "\t\"Kosher \" TEXT, \n",
      "\t\"None of the above \" TEXT, \n",
      "\t\"Question_Number\" TEXT, \n",
      "\t\"Options\" TEXT\n",
      ")\n",
      "\n",
      "/*\n",
      "3 rows from Question_3 table:\n",
      "Vegetarian \tVegan \tPescatarian \tHalal \tKosher \tNone of the above \tQuestion_Number\tOptions\n",
      "90.0\t44.0\t61.0\t87.0\t11.0\t715.0\t0.0\tValue\n",
      "41.0\t18.0\t29.0\t47.0\t6.0\t335.0\t0.0\tMale\n",
      "49.0\t26.0\t32.0\t40.0\t5.0\t380.0\t0.0\tFemale\n",
      "*/\n",
      "\n",
      "\n",
      "CREATE TABLE \"Question_4\" (\n",
      "\t\"Always \" TEXT, \n",
      "\t\"Often \" TEXT, \n",
      "\t\"Sometimes \" TEXT, \n",
      "\t\"Rarely \" TEXT, \n",
      "\t\"Never\" TEXT, \n",
      "\t\"Question_Number\" TEXT, \n",
      "\t\"Options\" TEXT\n",
      ")\n",
      "\n",
      "/*\n",
      "3 rows from Question_4 table:\n",
      "Always \tOften \tSometimes \tRarely \tNever\tQuestion_Number\tOptions\n",
      "168.0\t366.0\t379.0\t65.0\t30.0\t0.0\tValue\n",
      "90.0\t161.0\t179.0\t34.0\t13.0\t0.0\tMale\n",
      "78.0\t205.0\t200.0\t31.0\t17.0\t0.0\tFemale\n",
      "*/\n",
      "\n",
      "\n",
      "CREATE TABLE \"Question_5\" (\n",
      "\t\"Very important \" TEXT, \n",
      "\t\"Fairly important \" TEXT, \n",
      "\t\"Neither \" TEXT, \n",
      "\t\"Fairly unimportant\" TEXT, \n",
      "\t\"Very unimportant \" TEXT, \n",
      "\t\"Question_Number\" TEXT, \n",
      "\t\"Options\" TEXT\n",
      ")\n",
      "\n",
      "/*\n",
      "3 rows from Question_5 table:\n",
      "Very important \tFairly important \tNeither \tFairly unimportant\tVery unimportant \tQuestion_Number\tOptions\n",
      "259.0\t456.0\t205.0\t56.0\t31.0\t0.0\tValue\n",
      "128.0\t211.0\t92.0\t28.0\t17.0\t0.0\tMale\n",
      "131.0\t245.0\t113.0\t28.0\t14.0\t0.0\tFemale\n",
      "*/\n",
      "\n",
      "\n",
      "CREATE TABLE \"Question_6\" (\n",
      "\t\"Environmentally Friendly\" TEXT, \n",
      "\t\"Good for the planet\" TEXT, \n",
      "\t\"Less waste\" TEXT, \n",
      "\t\"Local\" TEXT, \n",
      "\t\"Ethical\" TEXT, \n",
      "\t\"Don't Know\" TEXT, \n",
      "\t\"Longer lasting\" TEXT, \n",
      "\t\"No natural resource depletion\" TEXT, \n",
      "\t\"Recyclable\" TEXT, \n",
      "\t\"Locally Sourced\" TEXT, \n",
      "\t\"Zero Carbon\" TEXT, \n",
      "\t\"Reuse or Repurpose\" TEXT, \n",
      "\t\"No Group\" TEXT, \n",
      "\t\"Question_Number\" TEXT, \n",
      "\t\"Options\" TEXT\n",
      ")\n",
      "\n",
      "/*\n",
      "3 rows from Question_6 table:\n",
      "Environmentally Friendly\tGood for the planet\tLess waste\tLocal\tEthical\tDon't Know\tLonger lasting\tNo natural resource depletion\tRecyclable\tLocally Sourced\tZero Carbon\tReuse or Repurpose\tNo Group\tQuestion_Number\tOptions\n",
      "371.0\t395.0\t50.0\t28.0\t68.0\t69.0\t127.0\t119.0\t100.0\t23.0\t37.0\t85.0\t161.0\t0.0\tValue\n",
      "165.0\t177.0\t20.0\t15.0\t31.0\t30.0\t61.0\t65.0\t34.0\t13.0\t21.0\t34.0\t92.0\t0.0\tMale\n",
      "206.0\t218.0\t30.0\t13.0\t37.0\t39.0\t66.0\t54.0\t66.0\t10.0\t16.0\t51.0\t69.0\t0.0\tFemale\n",
      "*/\n",
      "\n",
      "\n",
      "CREATE TABLE \"Question_7\" (\n",
      "\t\"Check if products are made from recyclable or biodegradable materials  - Always \" TEXT, \n",
      "\t\"Check if products are made from recyclable or biodegradable materials  - Often \" TEXT, \n",
      "\t\"Check if products are made from recyclable or biodegradable materials  - Rarely \" TEXT, \n",
      "\t\"Check if products are made from recyclable or biodegradable materials  - Sometimes \" TEXT, \n",
      "\t\"Check if products are made from recyclable or biodegradable materials  - Never \" TEXT, \n",
      "\t\"Limit my use of single use plastics  - Always \" TEXT, \n",
      "\t\"Limit my use of single use plastics  - Often \" TEXT, \n",
      "\t\"Limit my use of single use plastics  - Rarely \" TEXT, \n",
      "\t\"Limit my use of single use plastics  - Sometimes \" TEXT, \n",
      "\t\"Limit my use of single use plastics  - Never \" TEXT, \n",
      "\t\"Pay more for a more durable / longer lasting items - Always \" TEXT, \n",
      "\t\"Pay more for a more durable / longer lasting items - Often \" TEXT, \n",
      "\t\"Pay more for a more durable / longer lasting items - Rarely \" TEXT, \n",
      "\t\"Pay more for a more durable / longer lasting items - Sometimes \" TEXT, \n",
      "\t\"Pay more for a more durable / longer lasting items - Never \" TEXT, \n",
      "\t\"Purchase fewer plastics - Always \" TEXT, \n",
      "\t\"Purchase fewer plastics - Often \" TEXT, \n",
      "\t\"Purchase fewer plastics - Rarely \" TEXT, \n",
      "\t\"Purchase fewer plastics - Sometimes \" TEXT, \n",
      "\t\"Purchase fewer plastics - Never \" TEXT, \n",
      "\t\"Purchase more locally produced goods - Always \" TEXT, \n",
      "\t\"Purchase more locally produced goods - Often \" TEXT, \n",
      "\t\"Purchase more locally produced goods - Rarely \" TEXT, \n",
      "\t\"Purchase more locally produced goods - Sometimes \" TEXT, \n",
      "\t\"Purchase more locally produced goods - Never \" TEXT, \n",
      "\t\"Purchase products made of natural ingredients - Always \" TEXT, \n",
      "\t\"Purchase products made of natural ingredients - Often \" TEXT, \n",
      "\t\"Purchase products made of natural ingredients - Rarely \" TEXT, \n",
      "\t\"Purchase products made of natural ingredients - Sometimes \" TEXT, \n",
      "\t\"Purchase products made of natural ingredients - Never \" TEXT, \n",
      "\t\"Purchase second-hand items - Always \" TEXT, \n",
      "\t\"Purchase second-hand items - Often \" TEXT, \n",
      "\t\"Purchase second-hand items - Rarely \" TEXT, \n",
      "\t\"Purchase second-hand items - Sometimes \" TEXT, \n",
      "\t\"Purchase second-hand items - Never \" TEXT, \n",
      "\t\"Question_Number\" TEXT, \n",
      "\t\"Options\" TEXT\n",
      ")\n",
      "\n",
      "/*\n",
      "3 rows from Question_7 table:\n",
      "Check if products are made from recyclable or biodegradable materials  - Always \tCheck if products are made from recyclable or biodegradable materials  - Often \tCheck if products are made from recyclable or biodegradable materials  - Rarely \tCheck if products are made from recyclable or biodegradable materials  - Sometimes \tCheck if products are made from recyclable or biodegradable materials  - Never \tLimit my use of single use plastics  - Always \tLimit my use of single use plastics  - Often \tLimit my use of single use plastics  - Rarely \tLimit my use of single use plastics  - Sometimes \tLimit my use of single use plastics  - Never \tPay more for a more durable / longer lasting items - Always \tPay more for a more durable / longer lasting items - Often \tPay more for a more durable / longer lasting items - Rarely \tPay more for a more durable / longer lasting items - Sometimes \tPay more for a more durable / longer lasting items - Never \tPurchase fewer plastics - Always \tPurchase fewer plastics - Often \tPurchase fewer plastics - Rarely \tPurchase fewer plastics - Sometimes \tPurchase fewer plastics - Never \tPurchase more locally produced goods - Always \tPurchase more locally produced goods - Often \tPurchase more locally produced goods - Rarely \tPurchase more locally produced goods - Sometimes \tPurchase more locally produced goods - Never \tPurchase products made of natural ingredients - Always \tPurchase products made of natural ingredients - Often \tPurchase products made of natural ingredients - Rarely \tPurchase products made of natural ingredients - Sometimes \tPurchase products made of natural ingredients - Never \tPurchase second-hand items - Always \tPurchase second-hand items - Often \tPurchase second-hand items - Rarely \tPurchase second-hand items - Sometimes \tPurchase second-hand items - Never \tQuestion_Number\tOptions\n",
      "167.0\t344.0\t215.0\t169.0\t114.0\t232.0\t424.0\t149.0\t153.0\t51.0\t183.0\t414.0\t167.0\t183.0\t62.0\t200.0\t393.0\t164.0\t211.0\t41.0\t167.0\t400.0\t178.0\t217.0\t47.0\t153.0\t447.0\t172.0\t198.0\t39.0\t116.0\t375.0\t227.0\t200.0\t91.0\t0.0\tValue\n",
      "75.0\t164.0\t107.0\t81.0\t50.0\t101.0\t190.0\t81.0\t76.0\t29.0\t76.0\t200.0\t88.0\t81.0\t32.0\t89.0\t181.0\t83.0\t101.0\t23.0\t71.0\t188.0\t87.0\t107.0\t24.0\t69.0\t207.0\t91.0\t93.0\t17.0\t43.0\t154.0\t127.0\t106.0\t47.0\t0.0\tMale\n",
      "92.0\t180.0\t108.0\t88.0\t64.0\t131.0\t234.0\t68.0\t77.0\t22.0\t107.0\t214.0\t79.0\t102.0\t30.0\t111.0\t212.0\t81.0\t110.0\t18.0\t96.0\t212.0\t91.0\t110.0\t23.0\t84.0\t240.0\t81.0\t105.0\t22.0\t73.0\t221.0\t100.0\t94.0\t44.0\t0.0\tFemale\n",
      "*/\n",
      "\n",
      "\n",
      "CREATE TABLE \"Questions\" (\n",
      "\t\"Question_Number\" INTEGER, \n",
      "\t\"Question\" TEXT\n",
      ")\n",
      "\n",
      "/*\n",
      "3 rows from Questions table:\n",
      "Question_Number\tQuestion\n",
      "0\tCommon Data\n",
      "1\tPlease rank the importance of the following issues facing the UK today. From 1 being the most import\n",
      "2\tPlease select which, if any, of the following most closely represents your dietary preference:\n",
      "*/\u001b[0m\u001b[32;1m\u001b[1;3m\n",
      "Invoking: `sql_db_query_checker` with `{'query': 'SELECT \"Always \", \"Often \", \"Sometimes \", \"Rarely \", \"Never\" FROM Question_4 WHERE Options = \\'Male\\' LIMIT 10;'}`\n",
      "responded: To determine how much males buy sustainable and environmentally friendly products, we can refer to the \"Question_4\" table, which contains data on the frequency of purchasing such products. Let's query the relevant data for males from this table.\n",
      "\n",
      "\u001b[0m\u001b[36;1m\u001b[1;3m```sql\n",
      "SELECT \"Always \", \"Often \", \"Sometimes \", \"Rarely \", \"Never\" FROM Question_4 WHERE Options = 'Male' LIMIT 10;\n",
      "```\u001b[0m\u001b[32;1m\u001b[1;3m\n",
      "Invoking: `sql_db_query` with `{'query': 'SELECT \"Always \", \"Often \", \"Sometimes \", \"Rarely \", \"Never\" FROM Question_4 WHERE Options = \\'Male\\' LIMIT 10;'}`\n",
      "\n",
      "\n",
      "\u001b[0m\u001b[36;1m\u001b[1;3m[('90.0', '161.0', '179.0', '34.0', '13.0')]\u001b[0m\u001b[32;1m\u001b[1;3mThe data for males purchasing sustainable and environmentally friendly products is as follows:\n",
      "\n",
      "- Always: 90\n",
      "- Often: 161\n",
      "- Sometimes: 179\n",
      "- Rarely: 34\n",
      "- Never: 13\n",
      "\n",
      "This indicates that a significant number of males often or sometimes purchase products that are considered sustainable or environmentally friendly.\u001b[0m\n",
      "\n",
      "\u001b[1m> Finished chain.\u001b[0m\n",
      "The data indicates that a significant number of males purchase sustainable and environmentally friendly products with varying frequency. Specifically:\n",
      "\n",
      "- 90 males always purchase such products.\n",
      "- 161 males often purchase them.\n",
      "- 179 males sometimes purchase them.\n",
      "- 34 males rarely purchase them.\n",
      "- 13 males never purchase them.\n",
      "\n",
      "This suggests that while there is a strong inclination among males to buy sustainable products, the frequency varies, with the majority falling into the \"often\" and \"sometimes\" categories.\n"
     ]
    }
   ],
   "source": [
    "query_gen_system = PromptTemplate.from_template(\"\"\"\n",
    "    You are a Business Analyst And you have recieved data from SQL agent. Given the following user question, and result, answer the user question. \n",
    "    question: {input}\n",
    "    result: {output} \n",
    "    Answer:\"\"\")\n",
    "\n",
    "\n",
    "chain = agent_executor | query_gen_system | llm | StrOutputParser()\n",
    "res = chain.invoke(\n",
    "    {\n",
    "        \"input\": f\" Option column has values : {op_cols} And Questions table contain {ques} from survey which are linked with all other tables. Keeping that in mind How much male buy sustainable and enviromentaly friendly products?\"\n",
    "    }\n",
    ")\n",
    "print(res)\n"
   ]
  },
  {
   "cell_type": "code",
   "execution_count": 119,
   "metadata": {},
   "outputs": [
    {
     "name": "stdout",
     "output_type": "stream",
     "text": [
      "The data indicates that a significant number of males purchase sustainable and environmentally friendly products with varying frequency. Specifically:\n",
      "\n",
      "- 90 males always purchase such products.\n",
      "- 161 males often purchase them.\n",
      "- 179 males sometimes purchase them.\n",
      "- 34 males rarely purchase them.\n",
      "- 13 males never purchase them.\n",
      "\n",
      "This suggests that while there is a strong inclination among males to buy sustainable products, the frequency varies, with the majority falling into the \"often\" and \"sometimes\" categories.\n"
     ]
    }
   ],
   "source": [
    "print(res)"
   ]
  },
  {
   "cell_type": "code",
   "execution_count": null,
   "metadata": {},
   "outputs": [],
   "source": []
  },
  {
   "cell_type": "markdown",
   "metadata": {},
   "source": [
    "### To test DB"
   ]
  },
  {
   "cell_type": "code",
   "execution_count": 1,
   "metadata": {},
   "outputs": [
    {
     "ename": "ObjectNotExecutableError",
     "evalue": "Not an executable object: 'SELECT OPTIONS,\\n       \"Yes \"\\nFROM Question_15\\nORDER BY \"Yes \" DESC\\nLIMIT 10;'",
     "output_type": "error",
     "traceback": [
      "\u001b[1;31m---------------------------------------------------------------------------\u001b[0m",
      "\u001b[1;31mAttributeError\u001b[0m                            Traceback (most recent call last)",
      "File \u001b[1;32mc:\\Programming Work\\BounceProject\\DataAnalyst\\llm_venv\\Lib\\site-packages\\sqlalchemy\\engine\\base.py:1414\u001b[0m, in \u001b[0;36mConnection.execute\u001b[1;34m(self, statement, parameters, execution_options)\u001b[0m\n\u001b[0;32m   1413\u001b[0m \u001b[38;5;28;01mtry\u001b[39;00m:\n\u001b[1;32m-> 1414\u001b[0m     meth \u001b[38;5;241m=\u001b[39m \u001b[43mstatement\u001b[49m\u001b[38;5;241;43m.\u001b[39;49m\u001b[43m_execute_on_connection\u001b[49m\n\u001b[0;32m   1415\u001b[0m \u001b[38;5;28;01mexcept\u001b[39;00m \u001b[38;5;167;01mAttributeError\u001b[39;00m \u001b[38;5;28;01mas\u001b[39;00m err:\n",
      "\u001b[1;31mAttributeError\u001b[0m: 'str' object has no attribute '_execute_on_connection'",
      "\nThe above exception was the direct cause of the following exception:\n",
      "\u001b[1;31mObjectNotExecutableError\u001b[0m                  Traceback (most recent call last)",
      "Cell \u001b[1;32mIn[1], line 21\u001b[0m\n\u001b[0;32m     17\u001b[0m \u001b[38;5;66;03m# result = db.run(query)\u001b[39;00m\n\u001b[0;32m     18\u001b[0m \n\u001b[0;32m     19\u001b[0m \u001b[38;5;66;03m# Get the column names from the result\u001b[39;00m\n\u001b[0;32m     20\u001b[0m \u001b[38;5;28;01mwith\u001b[39;00m engine\u001b[38;5;241m.\u001b[39mconnect() \u001b[38;5;28;01mas\u001b[39;00m connection:\n\u001b[1;32m---> 21\u001b[0m     result_proxy \u001b[38;5;241m=\u001b[39m \u001b[43mconnection\u001b[49m\u001b[38;5;241;43m.\u001b[39;49m\u001b[43mexecute\u001b[49m\u001b[43m(\u001b[49m\u001b[43mquery\u001b[49m\u001b[43m)\u001b[49m\n\u001b[0;32m     22\u001b[0m     column_names \u001b[38;5;241m=\u001b[39m result_proxy\u001b[38;5;241m.\u001b[39mkeys()\n\u001b[0;32m     24\u001b[0m \u001b[38;5;28mprint\u001b[39m(column_names)\n",
      "File \u001b[1;32mc:\\Programming Work\\BounceProject\\DataAnalyst\\llm_venv\\Lib\\site-packages\\sqlalchemy\\engine\\base.py:1416\u001b[0m, in \u001b[0;36mConnection.execute\u001b[1;34m(self, statement, parameters, execution_options)\u001b[0m\n\u001b[0;32m   1414\u001b[0m     meth \u001b[38;5;241m=\u001b[39m statement\u001b[38;5;241m.\u001b[39m_execute_on_connection\n\u001b[0;32m   1415\u001b[0m \u001b[38;5;28;01mexcept\u001b[39;00m \u001b[38;5;167;01mAttributeError\u001b[39;00m \u001b[38;5;28;01mas\u001b[39;00m err:\n\u001b[1;32m-> 1416\u001b[0m     \u001b[38;5;28;01mraise\u001b[39;00m exc\u001b[38;5;241m.\u001b[39mObjectNotExecutableError(statement) \u001b[38;5;28;01mfrom\u001b[39;00m \u001b[38;5;21;01merr\u001b[39;00m\n\u001b[0;32m   1417\u001b[0m \u001b[38;5;28;01melse\u001b[39;00m:\n\u001b[0;32m   1418\u001b[0m     \u001b[38;5;28;01mreturn\u001b[39;00m meth(\n\u001b[0;32m   1419\u001b[0m         \u001b[38;5;28mself\u001b[39m,\n\u001b[0;32m   1420\u001b[0m         distilled_parameters,\n\u001b[0;32m   1421\u001b[0m         execution_options \u001b[38;5;129;01mor\u001b[39;00m NO_OPTIONS,\n\u001b[0;32m   1422\u001b[0m     )\n",
      "\u001b[1;31mObjectNotExecutableError\u001b[0m: Not an executable object: 'SELECT OPTIONS,\\n       \"Yes \"\\nFROM Question_15\\nORDER BY \"Yes \" DESC\\nLIMIT 10;'"
     ]
    }
   ],
   "source": [
    "from langchain_community.utilities import SQLDatabase\n",
    "from sqlalchemy import create_engine\n",
    "\n",
    "# Set up your SQL database connection\n",
    "engine = create_engine('sqlite:///../Data/DB/Sustain.db')\n",
    "db = SQLDatabase(engine)\n",
    "\n",
    "# print(db.dialect)\n",
    "# print(db.get_usable_table_names())\n",
    "\n",
    "# Execute your query\n",
    "query = \"\"\"SELECT OPTIONS,\n",
    "       \"Yes \"\n",
    "FROM Question_15\n",
    "ORDER BY \"Yes \" DESC\n",
    "LIMIT 10;\"\"\"\n",
    "# result = db.run(query)\n",
    "\n",
    "# Get the column names from the result\n",
    "with engine.connect() as connection:\n",
    "    result_proxy = connection.execute(query)\n",
    "    column_names = result_proxy.keys()\n",
    "\n",
    "print(column_names)\n"
   ]
  },
  {
   "cell_type": "code",
   "execution_count": 10,
   "metadata": {},
   "outputs": [
    {
     "ename": "ObjectNotExecutableError",
     "evalue": "Not an executable object: 'SELECT OPTIONS,\\n       \"Yes \"\\nFROM Question_15\\nORDER BY \"Yes \" DESC\\nLIMIT 10;'",
     "output_type": "error",
     "traceback": [
      "\u001b[1;31m---------------------------------------------------------------------------\u001b[0m",
      "\u001b[1;31mAttributeError\u001b[0m                            Traceback (most recent call last)",
      "File \u001b[1;32mc:\\Programming Work\\BounceProject\\DataAnalyst\\llm_venv\\Lib\\site-packages\\sqlalchemy\\engine\\base.py:1414\u001b[0m, in \u001b[0;36mConnection.execute\u001b[1;34m(self, statement, parameters, execution_options)\u001b[0m\n\u001b[0;32m   1413\u001b[0m \u001b[38;5;28;01mtry\u001b[39;00m:\n\u001b[1;32m-> 1414\u001b[0m     meth \u001b[38;5;241m=\u001b[39m \u001b[43mstatement\u001b[49m\u001b[38;5;241;43m.\u001b[39;49m\u001b[43m_execute_on_connection\u001b[49m\n\u001b[0;32m   1415\u001b[0m \u001b[38;5;28;01mexcept\u001b[39;00m \u001b[38;5;167;01mAttributeError\u001b[39;00m \u001b[38;5;28;01mas\u001b[39;00m err:\n",
      "\u001b[1;31mAttributeError\u001b[0m: 'str' object has no attribute '_execute_on_connection'",
      "\nThe above exception was the direct cause of the following exception:\n",
      "\u001b[1;31mObjectNotExecutableError\u001b[0m                  Traceback (most recent call last)",
      "Cell \u001b[1;32mIn[10], line 17\u001b[0m\n\u001b[0;32m     15\u001b[0m \u001b[38;5;66;03m# Get column names from the query\u001b[39;00m\n\u001b[0;32m     16\u001b[0m \u001b[38;5;28;01mwith\u001b[39;00m engine\u001b[38;5;241m.\u001b[39mconnect() \u001b[38;5;28;01mas\u001b[39;00m connection:\n\u001b[1;32m---> 17\u001b[0m     result_proxy \u001b[38;5;241m=\u001b[39m \u001b[43mconnection\u001b[49m\u001b[38;5;241;43m.\u001b[39;49m\u001b[43mexecute\u001b[49m\u001b[43m(\u001b[49m\u001b[43mquery\u001b[49m\u001b[43m)\u001b[49m\n\u001b[0;32m     18\u001b[0m     column_names \u001b[38;5;241m=\u001b[39m result_proxy\u001b[38;5;241m.\u001b[39mkeys()  \u001b[38;5;66;03m# Get column names from the result proxy\u001b[39;00m\n\u001b[0;32m     20\u001b[0m \u001b[38;5;28mprint\u001b[39m(column_names)\n",
      "File \u001b[1;32mc:\\Programming Work\\BounceProject\\DataAnalyst\\llm_venv\\Lib\\site-packages\\sqlalchemy\\engine\\base.py:1416\u001b[0m, in \u001b[0;36mConnection.execute\u001b[1;34m(self, statement, parameters, execution_options)\u001b[0m\n\u001b[0;32m   1414\u001b[0m     meth \u001b[38;5;241m=\u001b[39m statement\u001b[38;5;241m.\u001b[39m_execute_on_connection\n\u001b[0;32m   1415\u001b[0m \u001b[38;5;28;01mexcept\u001b[39;00m \u001b[38;5;167;01mAttributeError\u001b[39;00m \u001b[38;5;28;01mas\u001b[39;00m err:\n\u001b[1;32m-> 1416\u001b[0m     \u001b[38;5;28;01mraise\u001b[39;00m exc\u001b[38;5;241m.\u001b[39mObjectNotExecutableError(statement) \u001b[38;5;28;01mfrom\u001b[39;00m \u001b[38;5;21;01merr\u001b[39;00m\n\u001b[0;32m   1417\u001b[0m \u001b[38;5;28;01melse\u001b[39;00m:\n\u001b[0;32m   1418\u001b[0m     \u001b[38;5;28;01mreturn\u001b[39;00m meth(\n\u001b[0;32m   1419\u001b[0m         \u001b[38;5;28mself\u001b[39m,\n\u001b[0;32m   1420\u001b[0m         distilled_parameters,\n\u001b[0;32m   1421\u001b[0m         execution_options \u001b[38;5;129;01mor\u001b[39;00m NO_OPTIONS,\n\u001b[0;32m   1422\u001b[0m     )\n",
      "\u001b[1;31mObjectNotExecutableError\u001b[0m: Not an executable object: 'SELECT OPTIONS,\\n       \"Yes \"\\nFROM Question_15\\nORDER BY \"Yes \" DESC\\nLIMIT 10;'"
     ]
    }
   ],
   "source": []
  },
  {
   "cell_type": "code",
   "execution_count": 1,
   "metadata": {},
   "outputs": [
    {
     "name": "stdout",
     "output_type": "stream",
     "text": [
      "sqlite\n",
      "['Question_0', 'Question_1', 'Question_10', 'Question_11', 'Question_12', 'Question_13', 'Question_14', 'Question_15', 'Question_16', 'Question_17', 'Question_18', 'Question_19', 'Question_2', 'Question_20', 'Question_3', 'Question_4', 'Question_5', 'Question_6', 'Question_7', 'Question_8', 'Question_9', 'Questions']\n"
     ]
    }
   ],
   "source": [
    "from langchain_community.utilities import SQLDatabase\n",
    "\n",
    "db = SQLDatabase.from_uri(\"sqlite:///../Data/DB/Sustain.db\")\n",
    "print(db.dialect)\n",
    "print(db.get_usable_table_names())"
   ]
  },
  {
   "cell_type": "code",
   "execution_count": 6,
   "metadata": {},
   "outputs": [
    {
     "data": {
      "text/plain": [
       "\"[('Deforestation-free supply chain (minimising the consumption of products associated with deforestation and forest degradation)', '99'), ('Slightly Agree', '98.0'), ('25-34', '91.0'), ('Northern Ireland', '9.0'), ('Local', '9.0'), ('Lush', '9.0'), ('None of the above', '9'), ('Sourcing renewable / ‘green’ energy for production', '9'), ('35-44', '85.0'), ('Food & Beverage (food items, alcohol, carbonated drinks etc)', '84.0')]\""
      ]
     },
     "execution_count": 6,
     "metadata": {},
     "output_type": "execute_result"
    }
   ],
   "source": [
    "db.run(\"\"\"\n",
    "SELECT OPTIONS,\n",
    "       \"Yes \"\n",
    "FROM Question_15\n",
    "ORDER BY \"Yes \" DESC\n",
    "LIMIT 10;\n",
    "       \"\"\")"
   ]
  },
  {
   "cell_type": "code",
   "execution_count": 4,
   "metadata": {},
   "outputs": [
    {
     "ename": "AttributeError",
     "evalue": "'SQLDatabase' object has no attribute 'description'",
     "output_type": "error",
     "traceback": [
      "\u001b[1;31m---------------------------------------------------------------------------\u001b[0m",
      "\u001b[1;31mAttributeError\u001b[0m                            Traceback (most recent call last)",
      "Cell \u001b[1;32mIn[4], line 1\u001b[0m\n\u001b[1;32m----> 1\u001b[0m \u001b[43mdb\u001b[49m\u001b[38;5;241;43m.\u001b[39;49m\u001b[43mdescription\u001b[49m\n",
      "\u001b[1;31mAttributeError\u001b[0m: 'SQLDatabase' object has no attribute 'description'"
     ]
    }
   ],
   "source": [
    "db.description"
   ]
  },
  {
   "cell_type": "code",
   "execution_count": 3,
   "metadata": {},
   "outputs": [
    {
     "data": {
      "text/plain": [
       "'[(\\'CREATE TABLE \"Question_0\" (\\\\n\"Total\" REAL,\\\\n  \"Male\" REAL,\\\\n  \"Female\" REAL,\\\\n  \"North East\" REAL,\\\\n  \"North West\" REAL,\\\\n  \"Yorkshire & The Humber\" REAL,\\\\n  \"East Midlands\" REAL,\\\\n  \"West Midlands\" REAL,\\\\n  \"East of England\" REAL,\\\\n  \"London\" REAL,\\\\n  \"South East\" REAL,\\\\n  \"South West\" REAL,\\\\n  \"Wales\"...\\',), (\\'CREATE TABLE \"Question_1\" (\\\\n\"Crime \" REAL,\\\\n  \"Cost of Living \" REAL,\\\\n  \"Education \" REAL,\\\\n  \"Housing \" REAL,\\\\n  \"International conflict \" REAL,\\\\n  \"Mortgage interest rates \" REAL,\\\\n  \"The economy \" REAL,\\\\n  \"The environment and climate change \" REAL,\\\\n  \"The NHS \" REAL,\\\\n  \"Unemployment \" REAL,\\\\n ...\\',), (\\'CREATE TABLE \"Question_2\" (\\\\n\"Vegetarian \" REAL,\\\\n  \"Vegan \" REAL,\\\\n  \"Pescatarian \" REAL,\\\\n  \"Halal \" REAL,\\\\n  \"Kosher \" REAL,\\\\n  \"None of the above \" REAL,\\\\n  \"Question_Number\" REAL,\\\\n  \"Options\" TEXT\\\\n)\\',), (\\'CREATE TABLE \"Question_3\" (\\\\n\"Always \" REAL,\\\\n  \"Often \" REAL,\\\\n  \"Sometimes \" REAL,\\\\n  \"Rarely \" REAL,\\\\n  \"Never\" REAL,\\\\n  \"Question_Number\" REAL,\\\\n  \"Options\" TEXT\\\\n)\\',), (\\'CREATE TABLE \"Question_4\" (\\\\n\"Very important \" REAL,\\\\n  \"Fairly important \" REAL,\\\\n  \"Neither \" REAL,\\\\n  \"Fairly unimportant\" REAL,\\\\n  \"Very unimportant \" REAL,\\\\n  \"Question_Number\" REAL,\\\\n  \"Options\" TEXT\\\\n)\\',), (\\'CREATE TABLE \"Question_5\" (\\\\n\"Environmentally Friendly\" REAL,\\\\n  \"Good for the planet\" REAL,\\\\n  \"Less waste\" REAL,\\\\n  \"Local\" REAL,\\\\n  \"Ethical\" REAL,\\\\n  \"Don\\\\\\'t Know\" REAL,\\\\n  \"Longer lasting\" REAL,\\\\n  \"No natural resource depletion\" REAL,\\\\n  \"Recyclable\" REAL,\\\\n  \"Locally Sourced\" REAL,\\\\n  \"Zero Carbon\"...\\',), (\\'CREATE TABLE \"Question_6\" (\\\\n\"Check if products are made from recyclable or biodegradable materials  - Always \" REAL,\\\\n  \"Check if products are made from recyclable or biodegradable materials  - Often \" REAL,\\\\n  \"Check if products are made from recyclable or biodegradable materials  - Rarely \"...\\',), (\\'CREATE TABLE \"Question_7\" (\\\\n\"Purchase brands that promote environmentally sustainable practices/values - Always \" REAL,\\\\n  \"Purchase brands that promote environmentally sustainable practices/values - Often \" REAL,\\\\n  \"Purchase brands that promote environmentally sustainable practices/values -...\\',), (\\'CREATE TABLE \"Question_8\" (\\\\n\"The UK government \" REAL,\\\\n  \"Global corporations e.g the companies that own large well-known brands\" REAL,\\\\n  \"Global agencies e.g WWF, Greenpeace, friends of the earth etc\" REAL,\\\\n  \"All adults who live in the UK\" REAL,\\\\n  \"All of the above\" REAL,\\\\n  \"Question_Number\"...\\',), (\\'CREATE TABLE \"Question_9\" (\\\\n\"Very Much \" REAL,\\\\n  \"Somewhat\" REAL,\\\\n  \"Undecided \" REAL,\\\\n  \"Not Really \" REAL,\\\\n  \"Not at all\" REAL,\\\\n  \"Question_Number\" REAL,\\\\n  \"Options\" TEXT\\\\n)\\',), (\\'CREATE TABLE \"Question_10\" (\\\\n\"Deforestation-free supply chain (minimising the consumption of products associated with deforestation and forest degradation)\" REAL,\\\\n  \"Donating a proportion of profits to environmental organisations\" REAL,\\\\n  \"Implementing reduced waste goals\" REAL,\\\\n  \"Partnering...\\',), (\\'CREATE TABLE \"Question_11\" (\\\\n\"Deforestation-free supply chain (minimising the consumption of products associated with deforestation and forest degradation)\" REAL,\\\\n  \"Donating a proportion of profits to environmental organisations\" REAL,\\\\n  \"Implementing reduced waste goals\" REAL,\\\\n  \"Partnering...\\',), (\\'CREATE TABLE \"Question_12\" (\\\\n\"Very influenced \" REAL,\\\\n  \"Fairly influenced \" REAL,\\\\n  \"Neither \" REAL,\\\\n  \"Not very influenced\" REAL,\\\\n  \"Not at all influenced \" REAL,\\\\n  \"Question_Number\" REAL,\\\\n  \"Options\" TEXT\\\\n)\\',), (\\'CREATE TABLE \"Question_13\" (\\\\n\"Food & Beverage (food items, alcohol, carbonated drinks etc) - Excellent \" REAL,\\\\n  \"Food & Beverage (food items, alcohol, carbonated drinks etc) - Good \" REAL,\\\\n  \"Food & Beverage (food items, alcohol, carbonated drinks etc) - Fair \" REAL,\\\\n  \"Food & Beverage (food...\\',), (\\'CREATE TABLE \"Question_14\" (\\\\n\"Food & Beverage (food items, alcohol, carbonated drinks etc)\" REAL,\\\\n  \"Health, Beauty & Cosmetics (haircare, skincare, make up, fragrances, toiletries etc.)\" REAL,\\\\n  \"Household Goods (cleaning items, food wrapping, toilet paper etc.)\" REAL,\\\\n  \"Fashion & Clothing...\\',), (\\'CREATE TABLE \"Question_15\" (\\\\n\"Yes \" REAL,\\\\n  \"No \" REAL,\\\\n  \"Don\\\\\\'t know \" REAL,\\\\n  \"Question_Number\" REAL,\\\\n  \"Options\" TEXT\\\\n)\\',), (\\'CREATE TABLE \"Question_16\" (\\\\n\"Food & Beverage (food items, alcohol, carbonated drinks etc)\" REAL,\\\\n  \"Health, Beauty & Cosmetics (haircare, skincare, make up, fragrances, toiletries etc.)\" REAL,\\\\n  \"Household Goods (cleaning items, food wrapping, toilet paper etc.)\" REAL,\\\\n  \"Fashion & Clothing...\\',), (\\'CREATE TABLE \"Question_17\" (\\\\n\"Use of Chemicals\" REAL,\\\\n  \"Use of Palm Oil\" REAL,\\\\n  \"Animal Testing\" REAL,\\\\n  \"Ethical Concerns\" REAL,\\\\n  \"Plastic Packaging\" REAL,\\\\n  \"Renewable Resources\" REAL,\\\\n  \"Environmental Impact\" REAL,\\\\n  \"Sustainability\" REAL,\\\\n  \"Unethical Practices\" REAL,\\\\n  \"Supporting...\\',), (\\'CREATE TABLE \"Question_18\" (\\\\n\"Food & Beverage (food items, alcohol, carbonated drinks etc) - Up to 5% more\" REAL,\\\\n  \"Food & Beverage (food items, alcohol, carbonated drinks etc) - Up to 10% more\" REAL,\\\\n  \"Food & Beverage (food items, alcohol, carbonated drinks etc) - Up to 20% more\" REAL,\\\\n ...\\',), (\\'CREATE TABLE \"Question_19\" (\\\\n\"Strongly Agree \" REAL,\\\\n  \"Slightly Agree \" REAL,\\\\n  \"Neither \" REAL,\\\\n  \"Slightly Disagree \" REAL,\\\\n  \"Strongly Disagree \" REAL,\\\\n  \"Question_Number\" REAL,\\\\n  \"Options\" TEXT\\\\n)\\',), (\\'CREATE TABLE \"Question_20\" (\\\\n\"Amazon\" TEXT,\\\\n  \"Smol\" TEXT,\\\\n  \"Coca Cola\" TEXT,\\\\n  \"Patagonia\" TEXT,\\\\n  \"The Body Shop\" TEXT,\\\\n  \"Apple\" TEXT,\\\\n  \"Lush\" TEXT,\\\\n  \"Lidl\" TEXT,\\\\n  \"Ecover\" TEXT,\\\\n  \"Oceansaver\" TEXT,\\\\n  \"Tesco\" TEXT,\\\\n  \"No / Don\\\\\\'t Know\" TEXT,\\\\n  \"Tesla\" TEXT,\\\\n  \"Nike\" TEXT,\\\\n  \"No Group\"...\\',), (\\'CREATE TABLE \"Questions\" (\\\\n\"Question_Number\" INTEGER,\\\\n  \"Question\" TEXT\\\\n)\\',)]'"
      ]
     },
     "execution_count": 3,
     "metadata": {},
     "output_type": "execute_result"
    }
   ],
   "source": [
    "db = SQLDatabase.from_uri(f\"sqlite:///../Data/DB/Sustain2.db\")\n",
    "db.run(\"SELECT sql FROM sqlite_master WHERE type='table';\")"
   ]
  },
  {
   "cell_type": "code",
   "execution_count": null,
   "metadata": {},
   "outputs": [],
   "source": []
  }
 ],
 "metadata": {
  "kernelspec": {
   "display_name": "llm_venv",
   "language": "python",
   "name": "python3"
  },
  "language_info": {
   "codemirror_mode": {
    "name": "ipython",
    "version": 3
   },
   "file_extension": ".py",
   "mimetype": "text/x-python",
   "name": "python",
   "nbconvert_exporter": "python",
   "pygments_lexer": "ipython3",
   "version": "3.12.4"
  }
 },
 "nbformat": 4,
 "nbformat_minor": 2
}
